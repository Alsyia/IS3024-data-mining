{
 "cells": [
  {
   "cell_type": "code",
   "execution_count": 44,
   "metadata": {},
   "outputs": [
    {
     "data": {
      "text/html": [
       "<div>\n",
       "<style scoped>\n",
       "    .dataframe tbody tr th:only-of-type {\n",
       "        vertical-align: middle;\n",
       "    }\n",
       "\n",
       "    .dataframe tbody tr th {\n",
       "        vertical-align: top;\n",
       "    }\n",
       "\n",
       "    .dataframe thead th {\n",
       "        text-align: right;\n",
       "    }\n",
       "</style>\n",
       "<table border=\"1\" class=\"dataframe\">\n",
       "  <thead>\n",
       "    <tr style=\"text-align: right;\">\n",
       "      <th></th>\n",
       "      <th>CIS</th>\n",
       "      <th>denomination</th>\n",
       "      <th>galenic_form</th>\n",
       "      <th>route_of_administration</th>\n",
       "      <th>clearance_status</th>\n",
       "      <th>clearance_type</th>\n",
       "      <th>commercialisation_status</th>\n",
       "      <th>clearance_date</th>\n",
       "      <th>bdm_status</th>\n",
       "      <th>clearance_id</th>\n",
       "      <th>owners</th>\n",
       "      <th>enhanced_monitoring</th>\n",
       "    </tr>\n",
       "  </thead>\n",
       "  <tbody>\n",
       "    <tr>\n",
       "      <th>0</th>\n",
       "      <td>61266250</td>\n",
       "      <td>A 313 200 000 UI POUR CENT, pommade</td>\n",
       "      <td>pommade</td>\n",
       "      <td>cutanée</td>\n",
       "      <td>Autorisation active</td>\n",
       "      <td>Procédure nationale</td>\n",
       "      <td>Commercialisée</td>\n",
       "      <td>12/03/1998</td>\n",
       "      <td>NaN</td>\n",
       "      <td>NaN</td>\n",
       "      <td>PHARMA DEVELOPPEMENT</td>\n",
       "      <td>Non</td>\n",
       "    </tr>\n",
       "  </tbody>\n",
       "</table>\n",
       "</div>"
      ],
      "text/plain": [
       "        CIS                         denomination galenic_form  \\\n",
       "0  61266250  A 313 200 000 UI POUR CENT, pommade      pommade   \n",
       "\n",
       "  route_of_administration     clearance_status       clearance_type  \\\n",
       "0                 cutanée  Autorisation active  Procédure nationale   \n",
       "\n",
       "  commercialisation_status clearance_date bdm_status clearance_id  \\\n",
       "0           Commercialisée     12/03/1998        NaN          NaN   \n",
       "\n",
       "                  owners enhanced_monitoring  \n",
       "0   PHARMA DEVELOPPEMENT                 Non  "
      ]
     },
     "execution_count": 44,
     "metadata": {},
     "output_type": "execute_result"
    }
   ],
   "source": [
    "import pandas as pd\n",
    "import seaborn as sb\n",
    "\n",
    "# Import dataset\n",
    "\n",
    "data_file = \"./Data/CIS_bdpm.txt\"\n",
    "drugs_names = [\"CIS\",\n",
    "         \"denomination\",\n",
    "         \"galenic_form\",\n",
    "         \"route_of_administration\",\n",
    "         \"clearance_status\",\n",
    "         \"clearance_type\",\n",
    "         \"commercialisation_status\",\n",
    "         \"clearance_date\",\n",
    "         \"bdm_status\", \"clearance_id\",\n",
    "         \"owners\",\n",
    "         \"enhanced_monitoring\"]\n",
    "\n",
    "drugs = pd.read_table(data_file, names=drugs_names, encoding=\"latin-1\")\n",
    "drugs.head(n=1)"
   ]
  },
  {
   "cell_type": "code",
   "execution_count": 45,
   "metadata": {},
   "outputs": [
    {
     "data": {
      "text/html": [
       "<div>\n",
       "<style scoped>\n",
       "    .dataframe tbody tr th:only-of-type {\n",
       "        vertical-align: middle;\n",
       "    }\n",
       "\n",
       "    .dataframe tbody tr th {\n",
       "        vertical-align: top;\n",
       "    }\n",
       "\n",
       "    .dataframe thead th {\n",
       "        text-align: right;\n",
       "    }\n",
       "</style>\n",
       "<table border=\"1\" class=\"dataframe\">\n",
       "  <thead>\n",
       "    <tr style=\"text-align: right;\">\n",
       "      <th></th>\n",
       "      <th>CIS</th>\n",
       "      <th>CIP7</th>\n",
       "      <th>label</th>\n",
       "      <th>administrative_status</th>\n",
       "      <th>commercialisation_status</th>\n",
       "      <th>commercialisation_date</th>\n",
       "      <th>CIP13</th>\n",
       "      <th>collectivities_aggreement</th>\n",
       "      <th>reinbursement_rate</th>\n",
       "      <th>price</th>\n",
       "      <th>total_price</th>\n",
       "      <th>dispensing_fee</th>\n",
       "      <th>description</th>\n",
       "    </tr>\n",
       "  </thead>\n",
       "  <tbody>\n",
       "    <tr>\n",
       "      <th>0</th>\n",
       "      <td>60002283</td>\n",
       "      <td>4949729</td>\n",
       "      <td>plaquette(s) PVC PVDC aluminium de 30 comprimé(s)</td>\n",
       "      <td>Présentation active</td>\n",
       "      <td>Déclaration de commercialisation</td>\n",
       "      <td>16/03/2011</td>\n",
       "      <td>3400949497294</td>\n",
       "      <td>oui</td>\n",
       "      <td>100%</td>\n",
       "      <td>43,69</td>\n",
       "      <td>44,71</td>\n",
       "      <td>1,02</td>\n",
       "      <td>NaN</td>\n",
       "    </tr>\n",
       "  </tbody>\n",
       "</table>\n",
       "</div>"
      ],
      "text/plain": [
       "        CIS     CIP7                                              label  \\\n",
       "0  60002283  4949729  plaquette(s) PVC PVDC aluminium de 30 comprimé(s)   \n",
       "\n",
       "  administrative_status          commercialisation_status  \\\n",
       "0   Présentation active  Déclaration de commercialisation   \n",
       "\n",
       "  commercialisation_date          CIP13 collectivities_aggreement  \\\n",
       "0             16/03/2011  3400949497294                       oui   \n",
       "\n",
       "  reinbursement_rate  price total_price dispensing_fee description  \n",
       "0               100%  43,69       44,71           1,02         NaN  "
      ]
     },
     "execution_count": 45,
     "metadata": {},
     "output_type": "execute_result"
    }
   ],
   "source": [
    "forms_names = [\"CIS\",\n",
    "              \"CIP7\",\n",
    "              \"label\",\n",
    "              \"administrative_status\",\n",
    "              \"commercialisation_status\",\n",
    "               \"commercialisation_date\",\n",
    "              \"CIP13\",\n",
    "              \"collectivities_aggreement\",\n",
    "              \"reinbursement_rate\",\n",
    "              \"price\",\n",
    "               \"total_price\",\n",
    "               \"dispensing_fee\", # Je suppose...\n",
    "              \"description\"]\n",
    "\n",
    "forms = pd.read_table(\"./Data/CIS_CIP_bdpm.txt\", names=forms_names, encoding=\"latin-1\", sep=\"\\t\", index_col=False)\n",
    "# forms.head(n=20)\n",
    "forms.head(n=1)\n",
    "\n",
    "#TODO : Un médicament n'ayant pas de taux de remboursement (non-remboursé) ne devrait pas avoir d'honoraire de dispensation\n"
   ]
  },
  {
   "cell_type": "code",
   "execution_count": 46,
   "metadata": {
    "scrolled": true
   },
   "outputs": [
    {
     "data": {
      "text/html": [
       "<div>\n",
       "<style scoped>\n",
       "    .dataframe tbody tr th:only-of-type {\n",
       "        vertical-align: middle;\n",
       "    }\n",
       "\n",
       "    .dataframe tbody tr th {\n",
       "        vertical-align: top;\n",
       "    }\n",
       "\n",
       "    .dataframe thead th {\n",
       "        text-align: right;\n",
       "    }\n",
       "</style>\n",
       "<table border=\"1\" class=\"dataframe\">\n",
       "  <thead>\n",
       "    <tr style=\"text-align: right;\">\n",
       "      <th></th>\n",
       "      <th>CIS</th>\n",
       "      <th>agent_designation</th>\n",
       "      <th>drug_substance_code</th>\n",
       "      <th>drug_substance_label</th>\n",
       "      <th>dosage</th>\n",
       "      <th>dosage_ref</th>\n",
       "      <th>drug_nature</th>\n",
       "      <th>SA_ST_link</th>\n",
       "    </tr>\n",
       "  </thead>\n",
       "  <tbody>\n",
       "    <tr>\n",
       "      <th>0</th>\n",
       "      <td>60002283</td>\n",
       "      <td>comprimé</td>\n",
       "      <td>42215</td>\n",
       "      <td>ANASTROZOLE</td>\n",
       "      <td>1,00 mg</td>\n",
       "      <td>un comprimé</td>\n",
       "      <td>SA</td>\n",
       "      <td>1.0</td>\n",
       "    </tr>\n",
       "  </tbody>\n",
       "</table>\n",
       "</div>"
      ],
      "text/plain": [
       "        CIS agent_designation  drug_substance_code drug_substance_label  \\\n",
       "0  60002283          comprimé                42215          ANASTROZOLE   \n",
       "\n",
       "    dosage   dosage_ref drug_nature  SA_ST_link  \n",
       "0  1,00 mg  un comprimé          SA         1.0  "
      ]
     },
     "execution_count": 46,
     "metadata": {},
     "output_type": "execute_result"
    }
   ],
   "source": [
    "compositions_names = [\"CIS\",\n",
    "                     \"agent_designation\",\n",
    "                     \"drug_substance_code\",\n",
    "                     \"drug_substance_label\",\n",
    "                     \"dosage\",\n",
    "                     \"dosage_ref\",\n",
    "                     \"drug_nature\",\n",
    "                     \"SA_ST_link\"]\n",
    "\n",
    "compositions = pd.read_table(\"./Data/CIS_COMPO_bdpm.txt\", names=compositions_names, encoding=\"latin-1\", index_col=False)\n",
    "compositions.head(n=1)"
   ]
  },
  {
   "cell_type": "code",
   "execution_count": 47,
   "metadata": {
    "scrolled": true
   },
   "outputs": [
    {
     "data": {
      "text/html": [
       "<div>\n",
       "<style scoped>\n",
       "    .dataframe tbody tr th:only-of-type {\n",
       "        vertical-align: middle;\n",
       "    }\n",
       "\n",
       "    .dataframe tbody tr th {\n",
       "        vertical-align: top;\n",
       "    }\n",
       "\n",
       "    .dataframe thead th {\n",
       "        text-align: right;\n",
       "    }\n",
       "</style>\n",
       "<table border=\"1\" class=\"dataframe\">\n",
       "  <thead>\n",
       "    <tr style=\"text-align: right;\">\n",
       "      <th></th>\n",
       "      <th>CIS</th>\n",
       "      <th>HAS_code</th>\n",
       "      <th>assessment_reason</th>\n",
       "      <th>assessment_date</th>\n",
       "      <th>smr_status</th>\n",
       "      <th>smr_label</th>\n",
       "    </tr>\n",
       "  </thead>\n",
       "  <tbody>\n",
       "    <tr>\n",
       "      <th>0</th>\n",
       "      <td>63777286</td>\n",
       "      <td>CT-16800</td>\n",
       "      <td>Inscription (CT)</td>\n",
       "      <td>20180207</td>\n",
       "      <td>Important</td>\n",
       "      <td>Le service médical rendu par TRAMADOL ARROW 10...</td>\n",
       "    </tr>\n",
       "  </tbody>\n",
       "</table>\n",
       "</div>"
      ],
      "text/plain": [
       "        CIS  HAS_code assessment_reason  assessment_date smr_status  \\\n",
       "0  63777286  CT-16800  Inscription (CT)         20180207  Important   \n",
       "\n",
       "                                           smr_label  \n",
       "0  Le service médical rendu par TRAMADOL ARROW 10...  "
      ]
     },
     "execution_count": 47,
     "metadata": {},
     "output_type": "execute_result"
    }
   ],
   "source": [
    "smr_names = [\"CIS\",\n",
    "                     \"HAS_code\",\n",
    "                     \"assessment_reason\",\n",
    "                     \"assessment_date\",\n",
    "                     \"smr_status\",\n",
    "                     \"smr_label\"]\n",
    "\n",
    "smr = pd.read_table(\"./Data/CIS_HAS_SMR_bdpm.txt\", names=smr_names, encoding=\"latin-1\", index_col=False)\n",
    "smr.head(n=1)"
   ]
  },
  {
   "cell_type": "code",
   "execution_count": 52,
   "metadata": {},
   "outputs": [
    {
     "data": {
      "text/html": [
       "<div>\n",
       "<style scoped>\n",
       "    .dataframe tbody tr th:only-of-type {\n",
       "        vertical-align: middle;\n",
       "    }\n",
       "\n",
       "    .dataframe tbody tr th {\n",
       "        vertical-align: top;\n",
       "    }\n",
       "\n",
       "    .dataframe thead th {\n",
       "        text-align: right;\n",
       "    }\n",
       "</style>\n",
       "<table border=\"1\" class=\"dataframe\">\n",
       "  <thead>\n",
       "    <tr style=\"text-align: right;\">\n",
       "      <th></th>\n",
       "      <th>CIS</th>\n",
       "      <th>HAS_code</th>\n",
       "      <th>assessment_reason</th>\n",
       "      <th>assessment_date</th>\n",
       "      <th>smr_status</th>\n",
       "      <th>smr_label</th>\n",
       "    </tr>\n",
       "  </thead>\n",
       "  <tbody>\n",
       "    <tr>\n",
       "      <th>0</th>\n",
       "      <td>63777286</td>\n",
       "      <td>CT-16800</td>\n",
       "      <td>Inscription (CT)</td>\n",
       "      <td>20180207</td>\n",
       "      <td>V</td>\n",
       "      <td>Cette spécialité napporte pas damélioration ...</td>\n",
       "    </tr>\n",
       "  </tbody>\n",
       "</table>\n",
       "</div>"
      ],
      "text/plain": [
       "        CIS  HAS_code assessment_reason  assessment_date smr_status  \\\n",
       "0  63777286  CT-16800  Inscription (CT)         20180207          V   \n",
       "\n",
       "                                           smr_label  \n",
       "0  Cette spécialité napporte pas damélioration ...  "
      ]
     },
     "execution_count": 52,
     "metadata": {},
     "output_type": "execute_result"
    }
   ],
   "source": [
    "asmr_names = [\"CIS\",\n",
    "                     \"HAS_code\",\n",
    "                     \"assessment_reason\",\n",
    "                     \"assessment_date\",\n",
    "                     \"asmr_status\",\n",
    "                     \"asmr_label\"]\n",
    "\n",
    "asmr = pd.read_table(\"./Data/CIS_HAS_ASMR_bdpm.txt\", names=smr_names, encoding=\"latin-1\", index_col=False)\n",
    "asmr.head(n=1)\n",
    "\n",
    "# D'après le site de l'HAS : \"Le niveau d’ASMR intervient dans la fixation du prix d’un médicament remboursable.\""
   ]
  },
  {
   "cell_type": "code",
   "execution_count": 48,
   "metadata": {},
   "outputs": [
    {
     "data": {
      "text/html": [
       "<div>\n",
       "<style scoped>\n",
       "    .dataframe tbody tr th:only-of-type {\n",
       "        vertical-align: middle;\n",
       "    }\n",
       "\n",
       "    .dataframe tbody tr th {\n",
       "        vertical-align: top;\n",
       "    }\n",
       "\n",
       "    .dataframe thead th {\n",
       "        text-align: right;\n",
       "    }\n",
       "</style>\n",
       "<table border=\"1\" class=\"dataframe\">\n",
       "  <thead>\n",
       "    <tr style=\"text-align: right;\">\n",
       "      <th></th>\n",
       "      <th>HAS_code</th>\n",
       "      <th>link</th>\n",
       "    </tr>\n",
       "  </thead>\n",
       "  <tbody>\n",
       "    <tr>\n",
       "      <th>0</th>\n",
       "      <td>CT-1000</td>\n",
       "      <td>http://www.has-sante.fr/portail/jcms/c_400194</td>\n",
       "    </tr>\n",
       "  </tbody>\n",
       "</table>\n",
       "</div>"
      ],
      "text/plain": [
       "  HAS_code                                           link\n",
       "0  CT-1000  http://www.has-sante.fr/portail/jcms/c_400194"
      ]
     },
     "execution_count": 48,
     "metadata": {},
     "output_type": "execute_result"
    }
   ],
   "source": [
    "has_links_names = [\"HAS_code\",\n",
    "            \"link\"]\n",
    "\n",
    "has_links = pd.read_table(\"./Data/HAS_LiensPageCT_bdpm.txt\", names=has_links_names, encoding=\"latin-1\", index_col=False)\n",
    "has_links.head(n=1)"
   ]
  },
  {
   "cell_type": "code",
   "execution_count": 49,
   "metadata": {},
   "outputs": [
    {
     "data": {
      "text/html": [
       "<div>\n",
       "<style scoped>\n",
       "    .dataframe tbody tr th:only-of-type {\n",
       "        vertical-align: middle;\n",
       "    }\n",
       "\n",
       "    .dataframe tbody tr th {\n",
       "        vertical-align: top;\n",
       "    }\n",
       "\n",
       "    .dataframe thead th {\n",
       "        text-align: right;\n",
       "    }\n",
       "</style>\n",
       "<table border=\"1\" class=\"dataframe\">\n",
       "  <thead>\n",
       "    <tr style=\"text-align: right;\">\n",
       "      <th></th>\n",
       "      <th>generic_group_id</th>\n",
       "      <th>generic_group_label</th>\n",
       "      <th>CIS</th>\n",
       "      <th>generic_type</th>\n",
       "      <th>sort_id</th>\n",
       "    </tr>\n",
       "  </thead>\n",
       "  <tbody>\n",
       "    <tr>\n",
       "      <th>0</th>\n",
       "      <td>1</td>\n",
       "      <td>CIMETIDINE 200 mg - TAGAMET 200 mg, comprimé p...</td>\n",
       "      <td>65383183</td>\n",
       "      <td>0</td>\n",
       "      <td>1</td>\n",
       "    </tr>\n",
       "  </tbody>\n",
       "</table>\n",
       "</div>"
      ],
      "text/plain": [
       "   generic_group_id                                generic_group_label  \\\n",
       "0                 1  CIMETIDINE 200 mg - TAGAMET 200 mg, comprimé p...   \n",
       "\n",
       "        CIS  generic_type  sort_id  \n",
       "0  65383183             0        1  "
      ]
     },
     "execution_count": 49,
     "metadata": {},
     "output_type": "execute_result"
    }
   ],
   "source": [
    "generic_drugs_names = [\"generic_group_id\",\n",
    "                      \"generic_group_label\",\n",
    "                      \"CIS\",\n",
    "                      \"generic_type\",\n",
    "                      \"sort_id\"]\n",
    "\n",
    "generic_drugs = pd.read_table(\"./Data/CIS_GENER_bdpm.txt\", names=generic_drugs_names, encoding=\"latin-1\", index_col=False)\n",
    "generic_drugs.head(n=1)"
   ]
  },
  {
   "cell_type": "code",
   "execution_count": 51,
   "metadata": {},
   "outputs": [
    {
     "data": {
      "text/html": [
       "<div>\n",
       "<style scoped>\n",
       "    .dataframe tbody tr th:only-of-type {\n",
       "        vertical-align: middle;\n",
       "    }\n",
       "\n",
       "    .dataframe tbody tr th {\n",
       "        vertical-align: top;\n",
       "    }\n",
       "\n",
       "    .dataframe thead th {\n",
       "        text-align: right;\n",
       "    }\n",
       "</style>\n",
       "<table border=\"1\" class=\"dataframe\">\n",
       "  <thead>\n",
       "    <tr style=\"text-align: right;\">\n",
       "      <th></th>\n",
       "      <th>CIS</th>\n",
       "      <th>dispensing_conditions</th>\n",
       "    </tr>\n",
       "  </thead>\n",
       "  <tbody>\n",
       "    <tr>\n",
       "      <th>0</th>\n",
       "      <td>60355340</td>\n",
       "      <td>réservé à l'usage professionnel DENTAIRE</td>\n",
       "    </tr>\n",
       "  </tbody>\n",
       "</table>\n",
       "</div>"
      ],
      "text/plain": [
       "        CIS                     dispensing_conditions\n",
       "0  60355340  réservé à l'usage professionnel DENTAIRE"
      ]
     },
     "execution_count": 51,
     "metadata": {},
     "output_type": "execute_result"
    }
   ],
   "source": [
    "drugs_dispensing_conditions_names = [\"CIS\",\n",
    "                            \"dispensing_conditions\"]\n",
    "\n",
    "drug_dispensing_conditions = pd.read_table(\"./Data/CIS_CPD_bdpm.txt\", names=drugs_dispensing_conditions_names, encoding=\"latin-1\", index_col=False)\n",
    "drug_dispensing_conditions.head(n=1)"
   ]
  },
  {
   "cell_type": "code",
   "execution_count": 50,
   "metadata": {},
   "outputs": [
    {
     "data": {
      "text/html": [
       "<div>\n",
       "<style scoped>\n",
       "    .dataframe tbody tr th:only-of-type {\n",
       "        vertical-align: middle;\n",
       "    }\n",
       "\n",
       "    .dataframe tbody tr th {\n",
       "        vertical-align: top;\n",
       "    }\n",
       "\n",
       "    .dataframe thead th {\n",
       "        text-align: right;\n",
       "    }\n",
       "</style>\n",
       "<table border=\"1\" class=\"dataframe\">\n",
       "  <thead>\n",
       "    <tr style=\"text-align: right;\">\n",
       "      <th></th>\n",
       "      <th>CIS</th>\n",
       "      <th>begin_date</th>\n",
       "      <th>end_date</th>\n",
       "      <th>text</th>\n",
       "    </tr>\n",
       "  </thead>\n",
       "  <tbody>\n",
       "    <tr>\n",
       "      <th>0</th>\n",
       "      <td>60000318</td>\n",
       "      <td>2013-03-13</td>\n",
       "      <td>2018-09-13</td>\n",
       "      <td>&lt;a target='_blank'  title=\"Lien direct vers l'...</td>\n",
       "    </tr>\n",
       "  </tbody>\n",
       "</table>\n",
       "</div>"
      ],
      "text/plain": [
       "        CIS  begin_date    end_date  \\\n",
       "0  60000318  2013-03-13  2018-09-13   \n",
       "\n",
       "                                                text  \n",
       "0  <a target='_blank'  title=\"Lien direct vers l'...  "
      ]
     },
     "execution_count": 50,
     "metadata": {},
     "output_type": "execute_result"
    }
   ],
   "source": [
    "important_informations_names = [\"CIS\",\n",
    "                               \"begin_date\",\n",
    "                               \"end_date\",\n",
    "                               \"text\"]\n",
    "\n",
    "important_informations = pd.read_table(\"./Data/CIS_InfoImportantes_20180316125730_bdpm.txt\", names=important_informations_names, encoding=\"latin-1\", index_col=False, engine=\"python\")\n",
    "important_informations.head(n=1)"
   ]
  }
 ],
 "metadata": {
  "kernelspec": {
   "display_name": "Python 3",
   "language": "python",
   "name": "python3"
  },
  "language_info": {
   "codemirror_mode": {
    "name": "ipython",
    "version": 3
   },
   "file_extension": ".py",
   "mimetype": "text/x-python",
   "name": "python",
   "nbconvert_exporter": "python",
   "pygments_lexer": "ipython3",
   "version": "3.6.3"
  }
 },
 "nbformat": 4,
 "nbformat_minor": 2
}
